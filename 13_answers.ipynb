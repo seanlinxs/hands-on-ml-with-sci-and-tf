{
 "cells": [
  {
   "cell_type": "markdown",
   "metadata": {},
   "source": [
    "### 1. What are the advantages of a CNN over a fully connected DNN for image classification?\n",
    "\n",
    "CNN dramatically reduces computation scale compare to DNN\n",
    "\n",
    "### 2. Consider a CNN composed of three convolutional layers, each with 3 × 3 kernels, a stride of 2, and SAME padding. The lowest layer outputs 100 feature maps, the middle one outputs 200, and the top one outputs 400. The input images are RGB images of 200 × 300 pixels. What is the total number of parameters in the CNN? If we are using 32-bit floats, at least how much RAM will this network require when making a prediction for a single instance? What about when training on a mini-batch of 50 images?\n",
    "\n",
    "845600; 25MB; 1.25GB"
   ]
  },
  {
   "cell_type": "code",
   "execution_count": 6,
   "metadata": {},
   "outputs": [],
   "source": [
    "from math import ceil\n",
    "l1_h, l1_w, l1_m = ceil(200 / 3), ceil(300 / 3), 100\n",
    "l2_h, l2_w, l2_m = ceil(l1_h / 3), ceil(l1_w / 3), 200\n",
    "l3_h, l3_w, l3_m = ceil(l2_h / 3), ceil(l2_w / 3), 400"
   ]
  },
  {
   "cell_type": "code",
   "execution_count": 8,
   "metadata": {},
   "outputs": [],
   "source": [
    "n_params = l1_h * l1_w * l1_m + l2_h * l2_w * l2_m + l3_h * l3_w * l2_m"
   ]
  },
  {
   "cell_type": "code",
   "execution_count": 9,
   "metadata": {},
   "outputs": [
    {
     "data": {
      "text/plain": [
       "845600"
      ]
     },
     "execution_count": 9,
     "metadata": {},
     "output_type": "execute_result"
    }
   ],
   "source": [
    "n_params"
   ]
  },
  {
   "cell_type": "code",
   "execution_count": 11,
   "metadata": {},
   "outputs": [
    {
     "data": {
      "text/plain": [
       "25.8056640625"
      ]
     },
     "execution_count": 11,
     "metadata": {},
     "output_type": "execute_result"
    }
   ],
   "source": [
    "n_params * 32 / 1024 / 1024"
   ]
  },
  {
   "cell_type": "code",
   "execution_count": 12,
   "metadata": {},
   "outputs": [
    {
     "data": {
      "text/plain": [
       "1250"
      ]
     },
     "execution_count": 12,
     "metadata": {},
     "output_type": "execute_result"
    }
   ],
   "source": [
    "25 * 50"
   ]
  },
  {
   "cell_type": "markdown",
   "metadata": {},
   "source": [
    "### 3. If your GPU runs out of memory while training a CNN, what are five things you could try to solve the problem?\n",
    "\n",
    "* reduce features maps in each layer\n",
    "* reduce mini_batch size\n",
    "* reduce stride\n",
    "* reduce layers\n",
    "* increase kernel size\n",
    "\n",
    "### 4. Why would you want to add a max pooling layer rather than a convolutional layer with the same stride?\n",
    "\n",
    "It doesn't compute and directly output max sample.\n",
    "\n",
    "### 5. When would you want to add a local response normalization layer?\n",
    "\n",
    "Pending\n",
    "\n",
    "### 6. Can you name the main innovations in AlexNet, compared to LeNet-5? What about the main innovations in GoogLeNet and ResNet?\n",
    "\n",
    "Pending\n",
    "\n",
    "### 7. Build your own CNN and try to achieve the highest possible accuracy on MNIST.\n",
    "\n",
    "Pending\n",
    "\n",
    "### 8. Classifying large images using Inception v3.\n",
    "\n",
    "Pending\n",
    "\n",
    "### 9. Transfer learning for large image classification.\n",
    "\n",
    "Pending\n",
    "\n",
    "### 10. Go through TensorFlow’s DeepDream tutorial. It is a fun way to familiarize yourself with various ways of visualizing the patterns learned by a CNN, and to generate art using Deep Learning.\n",
    "\n",
    "Pending"
   ]
  },
  {
   "cell_type": "code",
   "execution_count": null,
   "metadata": {},
   "outputs": [],
   "source": []
  }
 ],
 "metadata": {
  "kernelspec": {
   "display_name": "py37",
   "language": "python",
   "name": "py37"
  },
  "language_info": {
   "codemirror_mode": {
    "name": "ipython",
    "version": 3
   },
   "file_extension": ".py",
   "mimetype": "text/x-python",
   "name": "python",
   "nbconvert_exporter": "python",
   "pygments_lexer": "ipython3",
   "version": "3.7.3"
  }
 },
 "nbformat": 4,
 "nbformat_minor": 2
}

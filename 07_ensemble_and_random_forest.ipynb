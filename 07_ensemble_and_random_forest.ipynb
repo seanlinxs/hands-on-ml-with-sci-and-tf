{
 "cells": [
  {
   "cell_type": "code",
   "execution_count": 1,
   "metadata": {},
   "outputs": [],
   "source": [
    "import numpy as np\n",
    "import matplotlib.pyplot as plt\n",
    "from sklearn.datasets import make_moons"
   ]
  },
  {
   "cell_type": "code",
   "execution_count": 5,
   "metadata": {},
   "outputs": [
    {
     "data": {
      "text/plain": [
       "array([[0.97181114, 0.34144066, 0.61726705, 0.91084479, 0.22153193,\n",
       "        0.7926963 , 0.97659331, 0.14814259, 0.47899468, 0.54853202],\n",
       "       [0.57316015, 0.25513097, 0.47019007, 0.68995512, 0.11387407,\n",
       "        0.09566824, 0.88340515, 0.61127045, 0.60286839, 0.22060001],\n",
       "       [0.47117867, 0.74605025, 0.37069158, 0.61833461, 0.33214893,\n",
       "        0.62300876, 0.15001416, 0.93782932, 0.77961634, 0.49804965],\n",
       "       [0.02133763, 0.33775649, 0.50219397, 0.32929352, 0.06020792,\n",
       "        0.02333809, 0.1203606 , 0.62426339, 0.38469836, 0.88867903],\n",
       "       [0.03969126, 0.42209919, 0.3819456 , 0.75224735, 0.28232289,\n",
       "        0.11289267, 0.57196113, 0.17501866, 0.54027823, 0.59683218]])"
      ]
     },
     "execution_count": 5,
     "metadata": {},
     "output_type": "execute_result"
    }
   ],
   "source": [
    "heads_proba = 0.51\n",
    "coin_tosses = (np.random.rand(5, 10))\n",
    "coin_tosses"
   ]
  },
  {
   "cell_type": "code",
   "execution_count": 6,
   "metadata": {},
   "outputs": [
    {
     "data": {
      "text/plain": [
       "array([[False,  True, False, False,  True, False, False,  True,  True,\n",
       "        False],\n",
       "       [False,  True,  True, False,  True,  True, False, False, False,\n",
       "         True],\n",
       "       [ True, False,  True, False,  True, False,  True, False, False,\n",
       "         True],\n",
       "       [ True,  True,  True,  True,  True,  True,  True, False,  True,\n",
       "        False],\n",
       "       [ True,  True,  True, False,  True,  True, False,  True, False,\n",
       "        False]])"
      ]
     },
     "execution_count": 6,
     "metadata": {},
     "output_type": "execute_result"
    }
   ],
   "source": [
    "coin_tosses < heads_proba"
   ]
  },
  {
   "cell_type": "code",
   "execution_count": 4,
   "metadata": {},
   "outputs": [
    {
     "data": {
      "image/png": "[encoded data removed]",
      "text/plain": [
       "<Figure size 432x288 with 1 Axes>"
      ]
     },
     "metadata": {
      "needs_background": "light"
     },
     "output_type": "display_data"
    }
   ],
   "source": [
    "X, y = make_moons(n_samples=100, noise=0.15, random_state=42)\n",
    "\n",
    "def plot_dataset(X, y, axes):\n",
    "    plt.plot(X[:, 0][y==0], X[:, 1][y==0], \"bs\")\n",
    "    plt.plot(X[:, 0][y==1], X[:, 1][y==1], \"g^\")\n",
    "    plt.axis(axes)\n",
    "    plt.grid(True, which='both')\n",
    "    plt.xlabel(r\"$x_1$\", fontsize=20)\n",
    "    plt.ylabel(r\"$x_2$\", fontsize=20, rotation=0)\n",
    "\n",
    "plot_dataset(X, y, [-1.5, 2.5, -1, 1.5])\n",
    "plt.show()"
   ]
  },
  {
   "cell_type": "code",
   "execution_count": null,
   "metadata": {},
   "outputs": [],
   "source": []
  }
 ],
 "metadata": {
  "kernelspec": {
   "display_name": "py37",
   "language": "python",
   "name": "py37"
  },
  "language_info": {
   "codemirror_mode": {
    "name": "ipython",
    "version": 3
   },
   "file_extension": ".py",
   "mimetype": "text/x-python",
   "name": "python",
   "nbconvert_exporter": "python",
   "pygments_lexer": "ipython3",
   "version": "3.7.3"
  }
 },
 "nbformat": 4,
 "nbformat_minor": 2
}
